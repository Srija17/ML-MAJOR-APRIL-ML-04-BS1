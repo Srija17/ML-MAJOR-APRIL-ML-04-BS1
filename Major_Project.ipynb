{
  "nbformat": 4,
  "nbformat_minor": 0,
  "metadata": {
    "colab": {
      "name": "Major Project.ipynb",
      "provenance": [],
      "collapsed_sections": [],
      "mount_file_id": "1_3tCR0n8-annBGbDIEetP2qoFzzlS-h5",
      "authorship_tag": "ABX9TyOoCsC7OXnrt5PCgsb4031P",
      "include_colab_link": true
    },
    "kernelspec": {
      "name": "python3",
      "display_name": "Python 3"
    },
    "language_info": {
      "name": "python"
    }
  },
  "cells": [
    {
      "cell_type": "markdown",
      "metadata": {
        "id": "view-in-github",
        "colab_type": "text"
      },
      "source": [
        "<a href=\"https://colab.research.google.com/github/Srija17/ML-MAJOR-APRIL-ML-04-BS1/blob/main/Major_Project.ipynb\" target=\"_parent\"><img src=\"https://colab.research.google.com/assets/colab-badge.svg\" alt=\"Open In Colab\"/></a>"
      ]
    },
    {
      "cell_type": "code",
      "metadata": {
        "colab": {
          "base_uri": "https://localhost:8080/"
        },
        "id": "_7_a_LK8gG3_",
        "outputId": "fce13659-c41c-48b3-830b-366702aed044"
      },
      "source": [
        "!pip install contractions --quiet\n",
        "!pip install streamlit --quiet\n",
        "!pip install pyngrok==4.1.1 --quiet"
      ],
      "execution_count": 1,
      "outputs": [
        {
          "output_type": "stream",
          "text": [
            "\u001b[K     |████████████████████████████████| 327kB 3.1MB/s \n",
            "\u001b[K     |████████████████████████████████| 286kB 17.2MB/s \n",
            "\u001b[?25h  Building wheel for pyahocorasick (setup.py) ... \u001b[?25l\u001b[?25hdone\n",
            "\u001b[K     |████████████████████████████████| 8.2MB 3.1MB/s \n",
            "\u001b[K     |████████████████████████████████| 174kB 43.7MB/s \n",
            "\u001b[K     |████████████████████████████████| 81kB 8.1MB/s \n",
            "\u001b[K     |████████████████████████████████| 4.2MB 40.5MB/s \n",
            "\u001b[K     |████████████████████████████████| 112kB 39.1MB/s \n",
            "\u001b[K     |████████████████████████████████| 71kB 7.0MB/s \n",
            "\u001b[K     |████████████████████████████████| 122kB 41.4MB/s \n",
            "\u001b[?25h  Building wheel for blinker (setup.py) ... \u001b[?25l\u001b[?25hdone\n",
            "\u001b[31mERROR: google-colab 1.0.0 has requirement ipykernel~=4.10, but you'll have ipykernel 5.5.5 which is incompatible.\u001b[0m\n",
            "  Building wheel for pyngrok (setup.py) ... \u001b[?25l\u001b[?25hdone\n"
          ],
          "name": "stdout"
        }
      ]
    },
    {
      "cell_type": "code",
      "metadata": {
        "id": "AaCEkT5-gYk-"
      },
      "source": [
        "#Packages\n",
        "\n",
        "import pandas as pd\n",
        "import nltk\n",
        "import requests\n",
        "from bs4 import BeautifulSoup\n",
        "import contractions\n",
        "import re\n",
        "from nltk.tokenize.toktok import ToktokTokenizer\n",
        "from sklearn.model_selection import train_test_split\n",
        "from sklearn.feature_extraction.text import TfidfVectorizer\n",
        "from sklearn.svm import SVC\n",
        "from sklearn.metrics import confusion_matrix,accuracy_score,classification_report\n",
        "from sklearn.pipeline import Pipeline\n",
        "import joblib\n",
        "from pyngrok import ngrok"
      ],
      "execution_count": 2,
      "outputs": []
    },
    {
      "cell_type": "code",
      "metadata": {
        "colab": {
          "base_uri": "https://localhost:8080/",
          "height": 203
        },
        "id": "RfyAJGGJgcpG",
        "outputId": "9335703f-8d5e-417a-df56-420aee97e46c"
      },
      "source": [
        "df= pd.read_csv('/content/drive/MyDrive/MajorProject_ML/IMDB Dataset.csv')\n",
        "df=df.iloc[:1000,:]\n",
        "df.head()"
      ],
      "execution_count": 3,
      "outputs": [
        {
          "output_type": "execute_result",
          "data": {
            "text/html": [
              "<div>\n",
              "<style scoped>\n",
              "    .dataframe tbody tr th:only-of-type {\n",
              "        vertical-align: middle;\n",
              "    }\n",
              "\n",
              "    .dataframe tbody tr th {\n",
              "        vertical-align: top;\n",
              "    }\n",
              "\n",
              "    .dataframe thead th {\n",
              "        text-align: right;\n",
              "    }\n",
              "</style>\n",
              "<table border=\"1\" class=\"dataframe\">\n",
              "  <thead>\n",
              "    <tr style=\"text-align: right;\">\n",
              "      <th></th>\n",
              "      <th>review</th>\n",
              "      <th>sentiment</th>\n",
              "    </tr>\n",
              "  </thead>\n",
              "  <tbody>\n",
              "    <tr>\n",
              "      <th>0</th>\n",
              "      <td>One of the other reviewers has mentioned that ...</td>\n",
              "      <td>positive</td>\n",
              "    </tr>\n",
              "    <tr>\n",
              "      <th>1</th>\n",
              "      <td>A wonderful little production. &lt;br /&gt;&lt;br /&gt;The...</td>\n",
              "      <td>positive</td>\n",
              "    </tr>\n",
              "    <tr>\n",
              "      <th>2</th>\n",
              "      <td>I thought this was a wonderful way to spend ti...</td>\n",
              "      <td>positive</td>\n",
              "    </tr>\n",
              "    <tr>\n",
              "      <th>3</th>\n",
              "      <td>Basically there's a family where a little boy ...</td>\n",
              "      <td>negative</td>\n",
              "    </tr>\n",
              "    <tr>\n",
              "      <th>4</th>\n",
              "      <td>Petter Mattei's \"Love in the Time of Money\" is...</td>\n",
              "      <td>positive</td>\n",
              "    </tr>\n",
              "  </tbody>\n",
              "</table>\n",
              "</div>"
            ],
            "text/plain": [
              "                                              review sentiment\n",
              "0  One of the other reviewers has mentioned that ...  positive\n",
              "1  A wonderful little production. <br /><br />The...  positive\n",
              "2  I thought this was a wonderful way to spend ti...  positive\n",
              "3  Basically there's a family where a little boy ...  negative\n",
              "4  Petter Mattei's \"Love in the Time of Money\" is...  positive"
            ]
          },
          "metadata": {
            "tags": []
          },
          "execution_count": 3
        }
      ]
    },
    {
      "cell_type": "code",
      "metadata": {
        "colab": {
          "base_uri": "https://localhost:8080/"
        },
        "id": "Ge956KibgpYA",
        "outputId": "6c44c384-3a73-4bef-84b7-0ef9d6aa5aac"
      },
      "source": [
        "nltk.download('stopwords')\n",
        "stopword_list = nltk.corpus.stopwords.words('english')\n",
        "stopword_list.remove('no')\n",
        "stopword_list.remove('not')\n",
        "len(stopword_list)"
      ],
      "execution_count": 4,
      "outputs": [
        {
          "output_type": "stream",
          "text": [
            "[nltk_data] Downloading package stopwords to /root/nltk_data...\n",
            "[nltk_data]   Unzipping corpora/stopwords.zip.\n"
          ],
          "name": "stdout"
        },
        {
          "output_type": "execute_result",
          "data": {
            "text/plain": [
              "177"
            ]
          },
          "metadata": {
            "tags": []
          },
          "execution_count": 4
        }
      ]
    },
    {
      "cell_type": "code",
      "metadata": {
        "id": "dX6O0nUOgrxQ"
      },
      "source": [
        "#HTML tag\n",
        "\n",
        "def html_tag(text):\n",
        "  soup = BeautifulSoup(text,\"html.parser\")\n",
        "  new_text = soup.get_text()\n",
        "  return new_text\n",
        "\n",
        "#Expand Contractions\n",
        "\n",
        "def con(text):\n",
        "  expand = contractions.fix(text)\n",
        "  return expand\n",
        "con(\"Y'all can't expand I'd think\")\n",
        "\n",
        "#Removing the Special Characters\n",
        "\n",
        "def remove_sp(text):\n",
        "  pattern = r'[^A-Za-z0-9\\s]'\n",
        "  text = re.sub(pattern,'',text)\n",
        "  return text\n",
        "\n",
        "#Remove Stopwords\n",
        "\n",
        "tokenizer = ToktokTokenizer()\n",
        "def remove_stopwords(text):\n",
        "  tokens = tokenizer.tokenize(text)\n",
        "  tokens = [token.strip() for token in tokens]\n",
        "  filtered_tokens = [token for token in tokens if token not in stopword_list] \n",
        "  filtered_text = ' '.join(filtered_tokens)\n",
        "  return filtered_text\n"
      ],
      "execution_count": 5,
      "outputs": []
    },
    {
      "cell_type": "code",
      "metadata": {
        "id": "bW67K0Xtg9fP"
      },
      "source": [
        "df.review = df.review.apply(lambda x:x.lower())\n",
        "df.review = df.review.apply(html_tag)\n",
        "df.review = df.review.apply(con)\n",
        "df.review = df.review.apply(remove_sp)\n",
        "df.review = df.review.apply(remove_stopwords)"
      ],
      "execution_count": 6,
      "outputs": []
    },
    {
      "cell_type": "code",
      "metadata": {
        "colab": {
          "base_uri": "https://localhost:8080/",
          "height": 203
        },
        "id": "PEIUIXw0hAXy",
        "outputId": "a809c0ef-88c5-4a5a-b00c-8d139d7188e5"
      },
      "source": [
        "df.head()"
      ],
      "execution_count": 7,
      "outputs": [
        {
          "output_type": "execute_result",
          "data": {
            "text/html": [
              "<div>\n",
              "<style scoped>\n",
              "    .dataframe tbody tr th:only-of-type {\n",
              "        vertical-align: middle;\n",
              "    }\n",
              "\n",
              "    .dataframe tbody tr th {\n",
              "        vertical-align: top;\n",
              "    }\n",
              "\n",
              "    .dataframe thead th {\n",
              "        text-align: right;\n",
              "    }\n",
              "</style>\n",
              "<table border=\"1\" class=\"dataframe\">\n",
              "  <thead>\n",
              "    <tr style=\"text-align: right;\">\n",
              "      <th></th>\n",
              "      <th>review</th>\n",
              "      <th>sentiment</th>\n",
              "    </tr>\n",
              "  </thead>\n",
              "  <tbody>\n",
              "    <tr>\n",
              "      <th>0</th>\n",
              "      <td>one reviewers mentioned watching 1 oz episode ...</td>\n",
              "      <td>positive</td>\n",
              "    </tr>\n",
              "    <tr>\n",
              "      <th>1</th>\n",
              "      <td>wonderful little production filming technique ...</td>\n",
              "      <td>positive</td>\n",
              "    </tr>\n",
              "    <tr>\n",
              "      <th>2</th>\n",
              "      <td>thought wonderful way spend time hot summer we...</td>\n",
              "      <td>positive</td>\n",
              "    </tr>\n",
              "    <tr>\n",
              "      <th>3</th>\n",
              "      <td>basically family little boy jake thinks zombie...</td>\n",
              "      <td>negative</td>\n",
              "    </tr>\n",
              "    <tr>\n",
              "      <th>4</th>\n",
              "      <td>petter matteis love time money visually stunni...</td>\n",
              "      <td>positive</td>\n",
              "    </tr>\n",
              "  </tbody>\n",
              "</table>\n",
              "</div>"
            ],
            "text/plain": [
              "                                              review sentiment\n",
              "0  one reviewers mentioned watching 1 oz episode ...  positive\n",
              "1  wonderful little production filming technique ...  positive\n",
              "2  thought wonderful way spend time hot summer we...  positive\n",
              "3  basically family little boy jake thinks zombie...  negative\n",
              "4  petter matteis love time money visually stunni...  positive"
            ]
          },
          "metadata": {
            "tags": []
          },
          "execution_count": 7
        }
      ]
    },
    {
      "cell_type": "code",
      "metadata": {
        "id": "dZbXjFlLhHi1"
      },
      "source": [
        "x=df['review'].values\n",
        "y=df['sentiment'].values"
      ],
      "execution_count": 8,
      "outputs": []
    },
    {
      "cell_type": "code",
      "metadata": {
        "colab": {
          "base_uri": "https://localhost:8080/",
          "height": 316
        },
        "id": "jFEPUTFnhJy4",
        "outputId": "766454cd-8aa6-48cf-af0f-ec62d9f7e72e"
      },
      "source": [
        "df['sentiment'].value_counts().plot(kind='bar')"
      ],
      "execution_count": 9,
      "outputs": [
        {
          "output_type": "execute_result",
          "data": {
            "text/plain": [
              "<matplotlib.axes._subplots.AxesSubplot at 0x7f8529e34cd0>"
            ]
          },
          "metadata": {
            "tags": []
          },
          "execution_count": 9
        },
        {
          "output_type": "display_data",
          "data": {
            "image/png": "[encoded data removed]",
            "text/plain": [
              "<Figure size 432x288 with 1 Axes>"
            ]
          },
          "metadata": {
            "tags": [],
            "needs_background": "light"
          }
        }
      ]
    },
    {
      "cell_type": "code",
      "metadata": {
        "colab": {
          "base_uri": "https://localhost:8080/"
        },
        "id": "-88pVfmPhMYk",
        "outputId": "b4a0caf2-a663-4c0d-f3be-e739e6f28e84"
      },
      "source": [
        "x_train,x_test,y_train,y_test = train_test_split(x,y,random_state=0)\n",
        "print(x_train.shape)\n",
        "print(x_test.shape)"
      ],
      "execution_count": 10,
      "outputs": [
        {
          "output_type": "stream",
          "text": [
            "(749,)\n",
            "(250,)\n"
          ],
          "name": "stdout"
        }
      ]
    },
    {
      "cell_type": "code",
      "metadata": {
        "id": "bYTsqRnThRII"
      },
      "source": [
        "vect = TfidfVectorizer()\n",
        "x_train_v = vect.fit_transform(x_train)\n",
        "x_test_v = vect.transform(x_test)"
      ],
      "execution_count": 11,
      "outputs": []
    },
    {
      "cell_type": "code",
      "metadata": {
        "colab": {
          "base_uri": "https://localhost:8080/"
        },
        "id": "4e7mMZymhR3I",
        "outputId": "94a0f46c-eaa8-4ce4-81b5-b96165535470"
      },
      "source": [
        "model = SVC()\n",
        "model.fit(x_train_v,y_train)\n",
        "y_pred = model.predict(x_test_v)\n",
        "y_pred"
      ],
      "execution_count": 12,
      "outputs": [
        {
          "output_type": "execute_result",
          "data": {
            "text/plain": [
              "array(['positive', 'negative', 'positive', 'negative', 'negative',\n",
              "       'positive', 'positive', 'negative', 'positive', 'positive',\n",
              "       'negative', 'negative', 'negative', 'positive', 'negative',\n",
              "       'positive', 'negative', 'positive', 'negative', 'negative',\n",
              "       'negative', 'negative', 'positive', 'positive', 'negative',\n",
              "       'positive', 'negative', 'negative', 'negative', 'negative',\n",
              "       'positive', 'negative', 'negative', 'negative', 'positive',\n",
              "       'positive', 'negative', 'negative', 'negative', 'negative',\n",
              "       'negative', 'positive', 'negative', 'positive', 'negative',\n",
              "       'positive', 'positive', 'positive', 'positive', 'positive',\n",
              "       'negative', 'negative', 'positive', 'positive', 'positive',\n",
              "       'positive', 'positive', 'positive', 'positive', 'negative',\n",
              "       'positive', 'positive', 'positive', 'negative', 'positive',\n",
              "       'positive', 'negative', 'positive', 'positive', 'negative',\n",
              "       'negative', 'positive', 'positive', 'positive', 'positive',\n",
              "       'negative', 'negative', 'positive', 'positive', 'positive',\n",
              "       'negative', 'negative', 'positive', 'positive', 'positive',\n",
              "       'negative', 'negative', 'positive', 'positive', 'positive',\n",
              "       'positive', 'positive', 'positive', 'positive', 'positive',\n",
              "       'negative', 'negative', 'positive', 'negative', 'positive',\n",
              "       'positive', 'negative', 'positive', 'negative', 'positive',\n",
              "       'positive', 'negative', 'negative', 'positive', 'negative',\n",
              "       'positive', 'negative', 'negative', 'negative', 'positive',\n",
              "       'positive', 'negative', 'positive', 'negative', 'negative',\n",
              "       'negative', 'negative', 'positive', 'negative', 'positive',\n",
              "       'positive', 'positive', 'positive', 'positive', 'negative',\n",
              "       'positive', 'negative', 'positive', 'negative', 'negative',\n",
              "       'positive', 'positive', 'negative', 'negative', 'negative',\n",
              "       'positive', 'negative', 'negative', 'negative', 'positive',\n",
              "       'positive', 'negative', 'negative', 'positive', 'negative',\n",
              "       'positive', 'positive', 'positive', 'positive', 'negative',\n",
              "       'positive', 'negative', 'negative', 'negative', 'positive',\n",
              "       'positive', 'negative', 'negative', 'positive', 'positive',\n",
              "       'negative', 'negative', 'negative', 'positive', 'negative',\n",
              "       'positive', 'positive', 'negative', 'positive', 'positive',\n",
              "       'negative', 'negative', 'positive', 'negative', 'negative',\n",
              "       'negative', 'negative', 'positive', 'positive', 'positive',\n",
              "       'positive', 'negative', 'negative', 'positive', 'positive',\n",
              "       'negative', 'positive', 'negative', 'negative', 'negative',\n",
              "       'positive', 'positive', 'negative', 'positive', 'positive',\n",
              "       'negative', 'positive', 'positive', 'positive', 'positive',\n",
              "       'negative', 'positive', 'positive', 'negative', 'positive',\n",
              "       'positive', 'positive', 'positive', 'negative', 'negative',\n",
              "       'positive', 'positive', 'negative', 'positive', 'negative',\n",
              "       'negative', 'negative', 'positive', 'positive', 'negative',\n",
              "       'negative', 'positive', 'positive', 'negative', 'positive',\n",
              "       'positive', 'negative', 'positive', 'negative', 'positive',\n",
              "       'negative', 'positive', 'negative', 'positive', 'positive',\n",
              "       'positive', 'positive', 'positive', 'negative', 'negative',\n",
              "       'positive', 'negative', 'positive', 'positive', 'positive'],\n",
              "      dtype=object)"
            ]
          },
          "metadata": {
            "tags": []
          },
          "execution_count": 12
        }
      ]
    },
    {
      "cell_type": "code",
      "metadata": {
        "colab": {
          "base_uri": "https://localhost:8080/"
        },
        "id": "ZgzR-GVhhUWZ",
        "outputId": "85769f91-d6a0-4c28-b2df-7b6891fb1d8f"
      },
      "source": [
        "accuracy_score(y_pred,y_test)"
      ],
      "execution_count": 13,
      "outputs": [
        {
          "output_type": "execute_result",
          "data": {
            "text/plain": [
              "0.824"
            ]
          },
          "metadata": {
            "tags": []
          },
          "execution_count": 13
        }
      ]
    },
    {
      "cell_type": "code",
      "metadata": {
        "colab": {
          "base_uri": "https://localhost:8080/"
        },
        "id": "ugLD4bLnhWR4",
        "outputId": "75882970-4b70-4ea2-a26e-76cd457bcc05"
      },
      "source": [
        "confusion_matrix(y_pred,y_test)"
      ],
      "execution_count": 14,
      "outputs": [
        {
          "output_type": "execute_result",
          "data": {
            "text/plain": [
              "array([[ 99,  15],\n",
              "       [ 29, 107]])"
            ]
          },
          "metadata": {
            "tags": []
          },
          "execution_count": 14
        }
      ]
    },
    {
      "cell_type": "code",
      "metadata": {
        "colab": {
          "base_uri": "https://localhost:8080/"
        },
        "id": "WXk9oSkChYPW",
        "outputId": "17dbee8a-4f46-4ef3-c79b-e3e4ae247817"
      },
      "source": [
        "print(classification_report(y_pred,y_test))"
      ],
      "execution_count": 15,
      "outputs": [
        {
          "output_type": "stream",
          "text": [
            "              precision    recall  f1-score   support\n",
            "\n",
            "    negative       0.77      0.87      0.82       114\n",
            "    positive       0.88      0.79      0.83       136\n",
            "\n",
            "    accuracy                           0.82       250\n",
            "   macro avg       0.83      0.83      0.82       250\n",
            "weighted avg       0.83      0.82      0.82       250\n",
            "\n"
          ],
          "name": "stdout"
        }
      ]
    },
    {
      "cell_type": "code",
      "metadata": {
        "colab": {
          "base_uri": "https://localhost:8080/",
          "height": 72
        },
        "id": "Y4pW8q88haKv",
        "outputId": "ca9ba980-7db5-4916-acf0-bb6f54653de7"
      },
      "source": [
        "# Evaluating for a specific message\n",
        "\n",
        "text = df['review'][10]\n",
        "print(text)\n",
        "df['sentiment'][10]"
      ],
      "execution_count": 16,
      "outputs": [
        {
          "output_type": "stream",
          "text": [
            "phil alien one quirky films humour based around oddness everything rather actual punchlinesat first odd pretty funny movie progressed not find jokes oddness funny anymoreits low budget film never problem pretty interesting characters eventually lost interesti imagine film would appeal stoner currently partakingfor something similar better try brother another planet\n"
          ],
          "name": "stdout"
        },
        {
          "output_type": "execute_result",
          "data": {
            "application/vnd.google.colaboratory.intrinsic+json": {
              "type": "string"
            },
            "text/plain": [
              "'negative'"
            ]
          },
          "metadata": {
            "tags": []
          },
          "execution_count": 16
        }
      ]
    },
    {
      "cell_type": "code",
      "metadata": {
        "colab": {
          "base_uri": "https://localhost:8080/"
        },
        "id": "ajtkG9-Nhg3e",
        "outputId": "b51c38d2-03df-4910-b4f7-a79c0eb04281"
      },
      "source": [
        "text=vect.transform([text])\n",
        "model.predict(text)"
      ],
      "execution_count": 17,
      "outputs": [
        {
          "output_type": "execute_result",
          "data": {
            "text/plain": [
              "array(['negative'], dtype=object)"
            ]
          },
          "metadata": {
            "tags": []
          },
          "execution_count": 17
        }
      ]
    },
    {
      "cell_type": "code",
      "metadata": {
        "id": "zATy3aWLhimg"
      },
      "source": [
        "text_model = Pipeline([('vect',TfidfVectorizer()),('model',SVC())])"
      ],
      "execution_count": 18,
      "outputs": []
    },
    {
      "cell_type": "code",
      "metadata": {
        "colab": {
          "base_uri": "https://localhost:8080/"
        },
        "id": "cuiVnH3Ohkmv",
        "outputId": "fede7d62-a6ed-43b0-a1ed-474c53a0c44f"
      },
      "source": [
        "text_model.fit(x_train,y_train)"
      ],
      "execution_count": 19,
      "outputs": [
        {
          "output_type": "execute_result",
          "data": {
            "text/plain": [
              "Pipeline(memory=None,\n",
              "         steps=[('vect',\n",
              "                 TfidfVectorizer(analyzer='word', binary=False,\n",
              "                                 decode_error='strict',\n",
              "                                 dtype=<class 'numpy.float64'>,\n",
              "                                 encoding='utf-8', input='content',\n",
              "                                 lowercase=True, max_df=1.0, max_features=None,\n",
              "                                 min_df=1, ngram_range=(1, 1), norm='l2',\n",
              "                                 preprocessor=None, smooth_idf=True,\n",
              "                                 stop_words=None, strip_accents=None,\n",
              "                                 sublinear_tf=False,\n",
              "                                 token_pattern='(?u)\\\\b\\\\w\\\\w+\\\\b',\n",
              "                                 tokenizer=None, use_idf=True,\n",
              "                                 vocabulary=None)),\n",
              "                ('model',\n",
              "                 SVC(C=1.0, break_ties=False, cache_size=200, class_weight=None,\n",
              "                     coef0=0.0, decision_function_shape='ovr', degree=3,\n",
              "                     gamma='scale', kernel='rbf', max_iter=-1,\n",
              "                     probability=False, random_state=None, shrinking=True,\n",
              "                     tol=0.001, verbose=False))],\n",
              "         verbose=False)"
            ]
          },
          "metadata": {
            "tags": []
          },
          "execution_count": 19
        }
      ]
    },
    {
      "cell_type": "code",
      "metadata": {
        "id": "rQ9BNOwThnCq"
      },
      "source": [
        "y_pred=text_model.predict(x_test)"
      ],
      "execution_count": 20,
      "outputs": []
    },
    {
      "cell_type": "code",
      "metadata": {
        "colab": {
          "base_uri": "https://localhost:8080/"
        },
        "id": "w3nBV_mlhpEx",
        "outputId": "c7d1f379-25b8-46cc-ee7e-f00949e49977"
      },
      "source": [
        "# Evaluating for a specific message\n",
        "\n",
        "text = df['review'][10]\n",
        "text_model.predict([text])"
      ],
      "execution_count": 21,
      "outputs": [
        {
          "output_type": "execute_result",
          "data": {
            "text/plain": [
              "array(['negative'], dtype=object)"
            ]
          },
          "metadata": {
            "tags": []
          },
          "execution_count": 21
        }
      ]
    },
    {
      "cell_type": "code",
      "metadata": {
        "colab": {
          "base_uri": "https://localhost:8080/"
        },
        "id": "XZSwiZO3hsFk",
        "outputId": "db34c914-a846-448b-b344-eb1ce904f3f7"
      },
      "source": [
        "joblib.dump(text_model,'sentiment_analyzer')"
      ],
      "execution_count": 22,
      "outputs": [
        {
          "output_type": "execute_result",
          "data": {
            "text/plain": [
              "['sentiment_analyzer']"
            ]
          },
          "metadata": {
            "tags": []
          },
          "execution_count": 22
        }
      ]
    },
    {
      "cell_type": "code",
      "metadata": {
        "colab": {
          "base_uri": "https://localhost:8080/"
        },
        "id": "t0rCLeYrhyLS",
        "outputId": "52bc75c5-04f1-4130-a115-bce6005a683b"
      },
      "source": [
        "%%writefile app.py\n",
        "import streamlit as st\n",
        "import joblib \n",
        "model=joblib.load('sentiment_analyzer')\n",
        "st.title('Sentiment Analyzer')\n",
        "ip = st.text_input(\"Enter the Review\")\n",
        "op = model.predict([ip])\n",
        "if st.button('Predict'):\n",
        "  st.title(op[0])"
      ],
      "execution_count": 23,
      "outputs": [
        {
          "output_type": "stream",
          "text": [
            "Writing app.py\n"
          ],
          "name": "stdout"
        }
      ]
    },
    {
      "cell_type": "code",
      "metadata": {
        "colab": {
          "base_uri": "https://localhost:8080/"
        },
        "id": "KsdySz5Dh0er",
        "outputId": "e9438efc-4329-4440-f5c4-7fc10c74ee31"
      },
      "source": [
        "!nohup streamlit run app.py &\n",
        "url = ngrok.connect(port='8501')\n",
        "print(url)"
      ],
      "execution_count": 24,
      "outputs": [
        {
          "output_type": "stream",
          "text": [
            "nohup: appending output to 'nohup.out'\n",
            "http://6f9a51342433.ngrok.io\n"
          ],
          "name": "stdout"
        }
      ]
    }
  ]
}